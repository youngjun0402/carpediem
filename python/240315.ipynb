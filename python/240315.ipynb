{
 "cells": [
  {
   "cell_type": "code",
   "execution_count": 1,
   "metadata": {},
   "outputs": [],
   "source": [
    "a = 10"
   ]
  },
  {
   "cell_type": "code",
   "execution_count": 2,
   "metadata": {},
   "outputs": [
    {
     "name": "stdout",
     "output_type": "stream",
     "text": [
      "<class 'str'>\n",
      "<class 'int'>\n"
     ]
    }
   ],
   "source": [
    "# 데이터의 타입을 변경\n",
    "x = '1000'\n",
    "print(type(x))\n",
    "x = int(x)\n",
    "print(type(x))"
   ]
  },
  {
   "cell_type": "code",
   "execution_count": 4,
   "metadata": {},
   "outputs": [
    {
     "name": "stdout",
     "output_type": "stream",
     "text": [
      "<class 'int'>\n",
      "<class 'str'>\n"
     ]
    }
   ],
   "source": [
    "# 숫자를 문자로 변경\n",
    "y = 100\n",
    "print(type(y))\n",
    "y = str(y)\n",
    "print(type(y))"
   ]
  },
  {
   "cell_type": "markdown",
   "metadata": {},
   "source": [
    "#### 비순서형 목록\n",
    "- 항목1\n",
    "- 항목2\n",
    "- 항목3\n",
    "    -서브1\n",
    "    -서브2\n",
    "    -서브3"
   ]
  },
  {
   "cell_type": "markdown",
   "metadata": {},
   "source": [
    "# 제목1\n",
    "## 제목2\n",
    "### 제목3\n",
    "#### 제목4"
   ]
  },
  {
   "cell_type": "markdown",
   "metadata": {},
   "source": [
    "1. 항목\n",
    "2. 항목\n",
    "3. 항목\n",
    "    1. 서브1\n",
    "    2. 서브2\n",
    "    3. 서브3"
   ]
  },
  {
   "cell_type": "code",
   "execution_count": 15,
   "metadata": {},
   "outputs": [],
   "source": [
    "# 변수를 생성\n",
    "a = 10\n",
    "b = 'test'"
   ]
  },
  {
   "cell_type": "code",
   "execution_count": 16,
   "metadata": {},
   "outputs": [
    {
     "name": "stdout",
     "output_type": "stream",
     "text": [
      "10\n",
      "<class 'int'>\n",
      "test\n",
      "<class 'str'>\n"
     ]
    }
   ],
   "source": [
    "print(a)\n",
    "print(type(a))\n",
    "print(b)\n",
    "print(type(b))"
   ]
  },
  {
   "cell_type": "code",
   "execution_count": 34,
   "metadata": {},
   "outputs": [
    {
     "name": "stdout",
     "output_type": "stream",
     "text": [
      "true\n",
      "<class 'str'>\n",
      "3.14\n",
      "<class 'float'>\n"
     ]
    }
   ],
   "source": [
    "c = 'true'\n",
    "d = 3.14\n",
    "print(c)\n",
    "print(type(c))\n",
    "print(d)\n",
    "print(type(d))"
   ]
  },
  {
   "cell_type": "code",
   "execution_count": 7,
   "metadata": {},
   "outputs": [
    {
     "name": "stdout",
     "output_type": "stream",
     "text": [
      "test\n",
      "True\n"
     ]
    }
   ],
   "source": [
    "a = 'test'\n",
    "print(a)\n",
    "a = bool(a)\n",
    "print(a)"
   ]
  },
  {
   "cell_type": "code",
   "execution_count": 8,
   "metadata": {},
   "outputs": [
    {
     "data": {
      "text/plain": [
       "False"
      ]
     },
     "execution_count": 8,
     "metadata": {},
     "output_type": "execute_result"
    }
   ],
   "source": [
    "bool(\"\")"
   ]
  },
  {
   "cell_type": "code",
   "execution_count": 9,
   "metadata": {},
   "outputs": [
    {
     "data": {
      "text/plain": [
       "True"
      ]
     },
     "execution_count": 9,
     "metadata": {},
     "output_type": "execute_result"
    }
   ],
   "source": [
    "bool(\" \")"
   ]
  },
  {
   "cell_type": "code",
   "execution_count": 10,
   "metadata": {},
   "outputs": [
    {
     "data": {
      "text/plain": [
       "False"
      ]
     },
     "execution_count": 10,
     "metadata": {},
     "output_type": "execute_result"
    }
   ],
   "source": [
    "bool(0)"
   ]
  },
  {
   "cell_type": "code",
   "execution_count": 12,
   "metadata": {},
   "outputs": [
    {
     "data": {
      "text/plain": [
       "True"
      ]
     },
     "execution_count": 12,
     "metadata": {},
     "output_type": "execute_result"
    }
   ],
   "source": [
    "bool(-1)"
   ]
  },
  {
   "cell_type": "code",
   "execution_count": 63,
   "metadata": {},
   "outputs": [],
   "source": [
    "# 연산자\n",
    "a = 10\n",
    "b = 3"
   ]
  },
  {
   "cell_type": "code",
   "execution_count": 64,
   "metadata": {},
   "outputs": [
    {
     "data": {
      "text/plain": [
       "13"
      ]
     },
     "execution_count": 64,
     "metadata": {},
     "output_type": "execute_result"
    }
   ],
   "source": [
    "a + b"
   ]
  },
  {
   "cell_type": "code",
   "execution_count": 65,
   "metadata": {},
   "outputs": [],
   "source": [
    "# a = a + b\n",
    "a += b"
   ]
  },
  {
   "cell_type": "code",
   "execution_count": 66,
   "metadata": {},
   "outputs": [
    {
     "name": "stdout",
     "output_type": "stream",
     "text": [
      "13\n"
     ]
    }
   ],
   "source": [
    "print(a)"
   ]
  },
  {
   "cell_type": "code",
   "execution_count": 26,
   "metadata": {},
   "outputs": [
    {
     "name": "stdout",
     "output_type": "stream",
     "text": [
      "a가 10보다 작다\n"
     ]
    }
   ],
   "source": [
    "# 조건문(if문)\n",
    "a = 5\n",
    "\n",
    "if a < 10:\n",
    "    print('a가 10보다 작다')"
   ]
  },
  {
   "cell_type": "code",
   "execution_count": 28,
   "metadata": {},
   "outputs": [
    {
     "name": "stdout",
     "output_type": "stream",
     "text": [
      "a는 10보다 크거나 같다.\n"
     ]
    }
   ],
   "source": [
    "a = 11\n",
    "\n",
    "if a < 10 : \n",
    "    print('a는 10 보다 작다.')\n",
    "else:\n",
    "    print('a는 10보다 크거나 같다.')"
   ]
  },
  {
   "cell_type": "code",
   "execution_count": 30,
   "metadata": {},
   "outputs": [
    {
     "name": "stdout",
     "output_type": "stream",
     "text": [
      "x에는 데이터가 존재하지 않는다\n"
     ]
    }
   ],
   "source": [
    "x = \"\"\n",
    "\n",
    "# if 뒤에 조건식에 조건식이 아닌 변수가 들어온다면\n",
    "# 해당하는 변수를 강제로 bool형태로 변환하여 비교\n",
    "if x:\n",
    "    print('x에는 데이터가 존재한다')\n",
    "else:\n",
    "    print('x에는 데이터가 존재하지 않는다')"
   ]
  },
  {
   "cell_type": "code",
   "execution_count": 33,
   "metadata": {},
   "outputs": [
    {
     "name": "stdout",
     "output_type": "stream",
     "text": [
      "C\n",
      "프로그램 종료\n"
     ]
    }
   ],
   "source": [
    "# 조건식이 여러개인 경우\n",
    "# int() : 데이터를 숫자로 변환\n",
    "# input() : 입력한 데이터를 받는다. 받은 데이터의 파일이 str\n",
    "score = int(input(\"점수를 입력하시오 : \"))\n",
    "#print(score)\n",
    "# 여러개의 if문을 연결해줄때는 if가 아니라 elif로 묶는다\n",
    "\n",
    "if score >= 90:\n",
    "    print('A')\n",
    "elif score >= 80:\n",
    "    print('B')\n",
    "elif score >= 70:\n",
    "    print('C')\n",
    "elif score >= 60:\n",
    "    print('D') \n",
    "else:\n",
    "    print('F')\n",
    "    \n",
    "print('프로그램 종료')        "
   ]
  },
  {
   "cell_type": "markdown",
   "metadata": {},
   "source": [
    "### 반복문\n",
    "- for문\n",
    "    - for i in range(시작값, 종료값, 증가값)\n",
    "    - for i in 자료형데이터(튜플, 리스트)\n",
    "    - 자료형 데이터의 원소의 개수만큼 반복 실행\n",
    "- while문\n",
    "    - while 뒤의 조건식이 거짓이 될때까지 반복 실행\n",
    "    - 일반적으로는 초기값을 변수에 대입, 반복실행 시 초기값을 증가 시키는 \n",
    "    형태로 작성\n",
    "    - 유의 사항: 무한 반복을 하지 않도록(조건식이 거짓이 되는 부분) 조심\n",
    "    - 반복 되는 횟수를 모를때 주로 사용\n",
    "    \n",
    "- break\n",
    "    - 반복문을 강제로 종료\n",
    "- continue\n",
    "    - 반복문으로 되돌아가는 기능    "
   ]
  },
  {
   "cell_type": "code",
   "execution_count": 38,
   "metadata": {},
   "outputs": [
    {
     "name": "stdout",
     "output_type": "stream",
     "text": [
      "range(1, 10)\n",
      "[1, 2, 3, 4, 5, 6, 7, 8, 9]\n"
     ]
    }
   ],
   "source": [
    "print(range(1, 10, 1))\n",
    "print( list( range(1, 10, 1) ) )"
   ]
  },
  {
   "cell_type": "code",
   "execution_count": 39,
   "metadata": {},
   "outputs": [
    {
     "name": "stdout",
     "output_type": "stream",
     "text": [
      "1\n",
      "2\n",
      "3\n",
      "4\n",
      "5\n",
      "6\n",
      "7\n",
      "8\n",
      "9\n"
     ]
    }
   ],
   "source": [
    "# 기본적인 for문의 형태\n",
    "for i in range(1, 10, 1):\n",
    "    print(i)"
   ]
  },
  {
   "cell_type": "code",
   "execution_count": 40,
   "metadata": {},
   "outputs": [
    {
     "name": "stdout",
     "output_type": "stream",
     "text": [
      "3\n"
     ]
    }
   ],
   "source": [
    "# 리스트 생성\n",
    "_list = [100, 'test', True]\n",
    "\n",
    "# 리스트의 길이를 출력\n",
    "print(len(_list))"
   ]
  },
  {
   "cell_type": "code",
   "execution_count": 42,
   "metadata": {},
   "outputs": [
    {
     "name": "stdout",
     "output_type": "stream",
     "text": [
      "100\n",
      "test\n",
      "True\n"
     ]
    }
   ],
   "source": [
    "# for i in range(0, 3, 1):\n",
    "for i in range(0, len(_list), 1):\n",
    "    #i에 들어오는 데이터들은? 0, 1, 2\n",
    "    print(_list[i])"
   ]
  },
  {
   "cell_type": "code",
   "execution_count": 43,
   "metadata": {},
   "outputs": [
    {
     "name": "stdout",
     "output_type": "stream",
     "text": [
      "100\n",
      "test\n",
      "True\n"
     ]
    }
   ],
   "source": [
    "for i in _list:\n",
    "    # i에 들어오는 데이터들은?\n",
    "    print(i)"
   ]
  },
  {
   "cell_type": "code",
   "execution_count": 68,
   "metadata": {},
   "outputs": [
    {
     "name": "stdout",
     "output_type": "stream",
     "text": [
      "1\n",
      "2\n",
      "3\n",
      "4\n",
      "5\n",
      "6\n",
      "7\n",
      "8\n",
      "9\n"
     ]
    }
   ],
   "source": [
    "# while문\n",
    "\n",
    "# 초기값 지정\n",
    "j = 1\n",
    "while j < 10:\n",
    "    print(j)\n",
    "    # j를 1씩 증가\n",
    "    # j= + 1\n",
    "    j += 1"
   ]
  },
  {
   "cell_type": "code",
   "execution_count": 48,
   "metadata": {},
   "outputs": [
    {
     "name": "stdout",
     "output_type": "stream",
     "text": [
      "55\n"
     ]
    }
   ],
   "source": [
    "# 1부터 10까지의 합계\n",
    "\n",
    "# 초기의 합계라는 변수를 생성해서 0을 대입\n",
    "result = 0\n",
    "for i in range(1, 11, 1):\n",
    "    # result = result + i\n",
    "    result += i\n",
    "print(result)"
   ]
  },
  {
   "cell_type": "code",
   "execution_count": 47,
   "metadata": {},
   "outputs": [
    {
     "name": "stdout",
     "output_type": "stream",
     "text": [
      "55\n"
     ]
    }
   ],
   "source": [
    "result = 0 \n",
    "i = 1\n",
    "while i <= 10:\n",
    "    # result = result + i\n",
    "    result += i\n",
    "    # i = i + 1\n",
    "    i += 1\n",
    "print(result)"
   ]
  },
  {
   "cell_type": "code",
   "execution_count": 54,
   "metadata": {},
   "outputs": [
    {
     "name": "stdout",
     "output_type": "stream",
     "text": [
      "2 X 1 = 2\n",
      "2 X 2 = 4\n",
      "2 X 3 = 6\n",
      "2 X 4 = 8\n",
      "2 X 5 = 10\n",
      "2 X 6 = 12\n",
      "2 X 7 = 14\n",
      "2 X 8 = 16\n",
      "2 X 9 = 18\n",
      "3 X 1 = 3\n",
      "3 X 2 = 6\n",
      "3 X 3 = 9\n",
      "3 X 4 = 12\n",
      "3 X 5 = 15\n",
      "3 X 6 = 18\n",
      "3 X 7 = 21\n",
      "3 X 8 = 24\n",
      "3 X 9 = 27\n",
      "4 X 1 = 4\n",
      "4 X 2 = 8\n",
      "4 X 3 = 12\n",
      "4 X 4 = 16\n",
      "4 X 5 = 20\n",
      "4 X 6 = 24\n",
      "4 X 7 = 28\n",
      "4 X 8 = 32\n",
      "4 X 9 = 36\n",
      "5 X 1 = 5\n",
      "5 X 2 = 10\n",
      "5 X 3 = 15\n",
      "5 X 4 = 20\n",
      "5 X 5 = 25\n",
      "5 X 6 = 30\n",
      "5 X 7 = 35\n",
      "5 X 8 = 40\n",
      "5 X 9 = 45\n",
      "6 X 1 = 6\n",
      "6 X 2 = 12\n",
      "6 X 3 = 18\n",
      "6 X 4 = 24\n",
      "6 X 5 = 30\n",
      "6 X 6 = 36\n",
      "6 X 7 = 42\n",
      "6 X 8 = 48\n",
      "6 X 9 = 54\n",
      "7 X 1 = 7\n",
      "7 X 2 = 14\n",
      "7 X 3 = 21\n",
      "7 X 4 = 28\n",
      "7 X 5 = 35\n",
      "7 X 6 = 42\n",
      "7 X 7 = 49\n",
      "7 X 8 = 56\n",
      "7 X 9 = 63\n",
      "8 X 1 = 8\n",
      "8 X 2 = 16\n",
      "8 X 3 = 24\n",
      "8 X 4 = 32\n",
      "8 X 5 = 40\n",
      "8 X 6 = 48\n",
      "8 X 7 = 56\n",
      "8 X 8 = 64\n",
      "8 X 9 = 72\n",
      "9 X 1 = 9\n",
      "9 X 2 = 18\n",
      "9 X 3 = 27\n",
      "9 X 4 = 36\n",
      "9 X 5 = 45\n",
      "9 X 6 = 54\n",
      "9 X 7 = 63\n",
      "9 X 8 = 72\n",
      "9 X 9 = 81\n"
     ]
    }
   ],
   "source": [
    "## 다중 반복문\n",
    "## 구구단 생성\n",
    "for i in range(2, 10, 1):\n",
    "    for j in range(1, 10, 1):\n",
    "        #print(i, j, i*j)\n",
    "        #print(\"%d X %d = %d\"%(i, j, i*j))\n",
    "        # f-string 이용\n",
    "        print(f\"{i} X {j} = {i*j}\")"
   ]
  },
  {
   "cell_type": "markdown",
   "metadata": {},
   "source": [
    "### 반복문 예제 문제(다중 for문)\n",
    "- 페르마의 마지막 정리가 참인가 확인\n",
    "\n",
    "- n = 3이라 가정을 하고 a, b, c에 1부터 10까지 값들을 모두 넣어서 해당하는 \n",
    "조건식이 참인 경우가 존재하는지 확인"
   ]
  },
  {
   "cell_type": "code",
   "execution_count": 58,
   "metadata": {},
   "outputs": [
    {
     "name": "stdout",
     "output_type": "stream",
     "text": [
      "1000\n",
      "프로그램 종료\n"
     ]
    }
   ],
   "source": [
    "cnt = 0\n",
    "n = 3\n",
    "end = 10\n",
    "# a가 1부터 10까지 반복\n",
    "for a in range(1, end+1, 1):   #10번 반복\n",
    "    # b가 1부터 10까지 반복\n",
    "    for b in range(1, end+1, 1):   #10번 반복\n",
    "        # c가 1부터 10까지 반복\n",
    "        for c in range(1, end+1, 1):   #10번 반복\n",
    "            # 10 * 10 * 10 번 반복\n",
    "            # 마지막 정리 공식이 참인가?\n",
    "            if a ** n + b ** n == c ** n:\n",
    "             # 참이라면 해당하는 a, b, c 출력\n",
    "                print(a, b, c)\n",
    "            cnt += 1    \n",
    "# '프로그램 종료' 출력\n",
    "print(cnt)\n",
    "print('프로그램 종료')                \n",
    "        \n",
    "                \n",
    "    "
   ]
  },
  {
   "cell_type": "code",
   "execution_count": null,
   "metadata": {},
   "outputs": [],
   "source": [
    "# tuple 간의 결합\n",
    "tuple_c = tuple_a + tuple_b\n",
    "tuple_d = tuple_a * 3\n",
    "# 튜플은 데이터의 수정이 불가능해서 에러가 발생\n",
    "#tuple_e = tuple_b + 3\n",
    "print(tuple_c)\n",
    "print(tuple_d)\n",
    "# print(tuple_e)\n",
    "\n"
   ]
  },
  {
   "cell_type": "code",
   "execution_count": 69,
   "metadata": {},
   "outputs": [
    {
     "ename": "NameError",
     "evalue": "name 'tuple_d' is not defined",
     "output_type": "error",
     "traceback": [
      "\u001b[1;31m---------------------------------------------------------------------------\u001b[0m",
      "\u001b[1;31mNameError\u001b[0m                                 Traceback (most recent call last)",
      "Cell \u001b[1;32mIn[69], line 2\u001b[0m\n\u001b[0;32m      1\u001b[0m \u001b[38;5;66;03m# tuple 안에 데이터를 추출\u001b[39;00m\n\u001b[1;32m----> 2\u001b[0m \u001b[38;5;28mprint\u001b[39m(\u001b[43mtuple_d\u001b[49m[\u001b[38;5;241m1\u001b[39m])\n\u001b[0;32m      3\u001b[0m \u001b[38;5;66;03m# 두번째 데이터부터 네번째 데이터 전까지\u001b[39;00m\n\u001b[0;32m      4\u001b[0m \u001b[38;5;28mprint\u001b[39m(tuple_d[\u001b[38;5;241m1\u001b[39m:\u001b[38;5;241m3\u001b[39m])\n",
      "\u001b[1;31mNameError\u001b[0m: name 'tuple_d' is not defined"
     ]
    }
   ],
   "source": [
    "# tuple 안에 데이터를 추출\n",
    "print(tuple_d[1])\n",
    "# 두번째 데이터부터 네번째 데이터 전까지\n",
    "print(tuple_d[1:3])\n",
    "# 처음부터 3번째 데이터전까지 \n",
    "print(tuple_d[:2])\n",
    "# 두번째 데이터부터 마지막까지\n",
    "print(tuple_d[1:])\n",
    "# 마지막 데이터만 출력\n",
    "print(tuple_d[5])\n",
    "# len(tuple_d) -> 6\n",
    "print(tuple_d[len(tuple_d)-1])\n",
    "print(tuple_d[-1])"
   ]
  },
  {
   "cell_type": "code",
   "execution_count": 70,
   "metadata": {},
   "outputs": [
    {
     "name": "stdout",
     "output_type": "stream",
     "text": [
      "[20, 10, 40, 30]\n",
      "['abc', 'ade', 'aaa']\n",
      "<class 'list'>\n",
      "<class 'list'>\n"
     ]
    }
   ],
   "source": [
    "# list 데이터 생성\n",
    "list_a = [20, 10, 40, 30]\n",
    "list_b = ['abc', 'ade', 'aaa']\n",
    "print(list_a)\n",
    "print(list_b)\n",
    "print(type(list_a))\n",
    "print(type(list_b))"
   ]
  },
  {
   "cell_type": "code",
   "execution_count": 72,
   "metadata": {},
   "outputs": [
    {
     "name": "stdout",
     "output_type": "stream",
     "text": [
      "[10, 20, 30, 40]\n"
     ]
    }
   ],
   "source": [
    "## 정렬을 변경\n",
    "# 오름차순 정렬\n",
    "list_a.sort()\n",
    "print(list_a)\n"
   ]
  },
  {
   "cell_type": "code",
   "execution_count": 73,
   "metadata": {},
   "outputs": [
    {
     "name": "stdout",
     "output_type": "stream",
     "text": [
      "['aaa', 'ade', 'abc']\n"
     ]
    }
   ],
   "source": [
    "# 역순으로 변경\n",
    "list_b.reverse()\n",
    "print(list_b)"
   ]
  },
  {
   "cell_type": "code",
   "execution_count": 75,
   "metadata": {},
   "outputs": [
    {
     "name": "stdout",
     "output_type": "stream",
     "text": [
      "[40, 30, 20, 10]\n"
     ]
    }
   ],
   "source": [
    "# 내림차순 정렬\n",
    "list_c = [20, 40, 10, 30]\n",
    "# 오름차순 정렬\n",
    "list_c.sort()\n",
    "# 역순으로 변경\n",
    "list_c.reverse()\n",
    "print(list_c)"
   ]
  },
  {
   "cell_type": "code",
   "execution_count": 76,
   "metadata": {},
   "outputs": [
    {
     "name": "stdout",
     "output_type": "stream",
     "text": [
      "[40, 30, 20, 10]\n"
     ]
    }
   ],
   "source": [
    "list_d = [20, 40, 10, 30]\n",
    "# 내림차순 정렬\n",
    "list_d.sort(reverse=True)\n",
    "print(list_d)"
   ]
  }
 ],
 "metadata": {
  "kernelspec": {
   "display_name": "Python 3",
   "language": "python",
   "name": "python3"
  },
  "language_info": {
   "codemirror_mode": {
    "name": "ipython",
    "version": 3
   },
   "file_extension": ".py",
   "mimetype": "text/x-python",
   "name": "python",
   "nbconvert_exporter": "python",
   "pygments_lexer": "ipython3",
   "version": "3.11.8"
  }
 },
 "nbformat": 4,
 "nbformat_minor": 2
}
